{
 "cells": [
  {
   "cell_type": "code",
   "execution_count": null,
   "id": "61efa399",
   "metadata": {},
   "outputs": [],
   "source": [
    "from fenics import *\n",
    "import numpy as np\n",
    "import meshio\n",
    "from mpl_toolkits.mplot3d import Axes3D\n",
    "import matplotlib.pyplot as plt"
   ]
  },
  {
   "cell_type": "code",
   "execution_count": 9,
   "id": "20e53758",
   "metadata": {},
   "outputs": [
    {
     "name": "stdout",
     "output_type": "stream",
     "text": [
      "\n"
     ]
    }
   ],
   "source": [
    "# Load .msh file\n",
    "msh = meshio.read(\"circle.msh\")\n",
    "\n",
    "# Extract mesh and physical data\n",
    "triangle_cells = msh.cells_dict.get(\"triangle\")\n",
    "line_cells = msh.cells_dict.get(\"line\")\n",
    "\n",
    "# Optional: physical data\n",
    "triangle_data = msh.cell_data_dict.get(\"gmsh:physical\", {}).get(\"triangle\", None)\n",
    "line_data = msh.cell_data_dict.get(\"gmsh:physical\", {}).get(\"line\", None)\n",
    "\n",
    "# Create XDMF mesh\n",
    "meshio.write(\"circle.xdmf\", meshio.Mesh(\n",
    "    points=msh.points,\n",
    "    cells=[(\"triangle\", triangle_cells)],\n",
    "    cell_data={\"name_to_read\": [triangle_data]} if triangle_data is not None else {}\n",
    "))"
   ]
  },
  {
   "cell_type": "code",
   "execution_count": null,
   "id": "bff6257c",
   "metadata": {},
   "outputs": [
    {
     "name": "stdout",
     "output_type": "stream",
     "text": [
      "Calling FFC just-in-time (JIT) compiler, this may take some time.\n",
      "Calling FFC just-in-time (JIT) compiler, this may take some time.\n",
      "Solving linear variational problem.\n",
      "Stationary solution computed.\n"
     ]
    }
   ],
   "source": [
    "# Define variational problem for the stationary solution\n",
    "u = TrialFunction(V)\n",
    "v = TestFunction(V)\n",
    "f = Constant(0.0)\n",
    "\n",
    "a = u * v * dx + dot(grad(u), grad(v)) * dx\n",
    "L = f * v * dx\n",
    "\n",
    "# Solve the stationary problem\n",
    "u = Function(V)\n",
    "solve(a == L, u)\n",
    "\n",
    "# Output the solution to a file\n",
    "vtkfile = File(\"results/stationary/stationary_solution.pvd\")\n",
    "vtkfile << u\n",
    "\n",
    "print(\"Stationary solution computed.\")\n"
   ]
  },
  {
   "cell_type": "code",
   "execution_count": null,
   "id": "44ea692b",
   "metadata": {},
   "outputs": [
    {
     "ename": "ModuleNotFoundError",
     "evalue": "No module named 'mpl_toolkits'",
     "output_type": "error",
     "traceback": [
      "\u001b[31m---------------------------------------------------------------------------\u001b[39m",
      "\u001b[31mModuleNotFoundError\u001b[39m                       Traceback (most recent call last)",
      "\u001b[36mCell\u001b[39m\u001b[36m \u001b[39m\u001b[32mIn[15]\u001b[39m\u001b[32m, line 1\u001b[39m\n\u001b[32m----> \u001b[39m\u001b[32m1\u001b[39m \u001b[38;5;28;01mfrom\u001b[39;00m\u001b[38;5;250m \u001b[39m\u001b[34;01mmpl_toolkits\u001b[39;00m\u001b[34;01m.\u001b[39;00m\u001b[34;01mmplot3d\u001b[39;00m\u001b[38;5;250m \u001b[39m\u001b[38;5;28;01mimport\u001b[39;00m Axes3D\n\u001b[32m      3\u001b[39m \u001b[38;5;28;01mimport\u001b[39;00m\u001b[38;5;250m \u001b[39m\u001b[34;01mmatplotlib\u001b[39;00m\u001b[34;01m.\u001b[39;00m\u001b[34;01mpyplot\u001b[39;00m\u001b[38;5;250m \u001b[39m\u001b[38;5;28;01mas\u001b[39;00m\u001b[38;5;250m \u001b[39m\u001b[34;01mplt\u001b[39;00m\n\u001b[32m      5\u001b[39m \u001b[38;5;66;03m# Extract the mesh coordinates and solution values\u001b[39;00m\n",
      "\u001b[31mModuleNotFoundError\u001b[39m: No module named 'mpl_toolkits'"
     ]
    }
   ],
   "source": [
    "\n",
    "\n",
    "# Extract the mesh coordinates and solution values\n",
    "coordinates = mesh.coordinates()\n",
    "solution_values = u.compute_vertex_values(mesh)\n",
    "\n",
    "# Create a 3D plot\n",
    "fig = plt.figure()\n",
    "ax = fig.add_subplot(111, projection='y' \\\n",
    "'3d')\n",
    "ax.plot_trisurf(coordinates[:, 0], coordinates[:, 1], solution_values, cmap='viridis')\n",
    "\n",
    "# Add labels and title\n",
    "ax.set_xlabel(\"X\")\n",
    "ax.set_ylabel(\"Y\")\n",
    "ax.set_zlabel(\"Solution\")\n",
    "ax.set_title(\"Stationary Solution\")\n",
    "\n",
    "plt.show()"
   ]
  },
  {
   "cell_type": "code",
   "execution_count": null,
   "id": "7d1c432e",
   "metadata": {},
   "outputs": [],
   "source": []
  }
 ],
 "metadata": {
  "kernelspec": {
   "display_name": "fenics",
   "language": "python",
   "name": "python3"
  },
  "language_info": {
   "codemirror_mode": {
    "name": "ipython",
    "version": 3
   },
   "file_extension": ".py",
   "mimetype": "text/x-python",
   "name": "python",
   "nbconvert_exporter": "python",
   "pygments_lexer": "ipython3",
   "version": "3.11.12"
  }
 },
 "nbformat": 4,
 "nbformat_minor": 5
}
